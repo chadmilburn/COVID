{
 "cells": [
  {
   "cell_type": "code",
   "execution_count": 15,
   "metadata": {},
   "outputs": [],
   "source": [
    "# dependencies\n",
    "import pandas as pd\n",
    "import numpy as np"
   ]
  },
  {
   "cell_type": "code",
   "execution_count": 10,
   "metadata": {},
   "outputs": [
    {
     "data": {
      "text/html": [
       "<div>\n",
       "<style scoped>\n",
       "    .dataframe tbody tr th:only-of-type {\n",
       "        vertical-align: middle;\n",
       "    }\n",
       "\n",
       "    .dataframe tbody tr th {\n",
       "        vertical-align: top;\n",
       "    }\n",
       "\n",
       "    .dataframe thead th {\n",
       "        text-align: right;\n",
       "    }\n",
       "</style>\n",
       "<table border=\"1\" class=\"dataframe\">\n",
       "  <thead>\n",
       "    <tr style=\"text-align: right;\">\n",
       "      <th></th>\n",
       "      <th>State</th>\n",
       "      <th>COVID-19 Deaths</th>\n",
       "      <th>Total Deaths</th>\n",
       "      <th>Pneumonia Deaths</th>\n",
       "      <th>Pneumonia and COVID-19 Deaths</th>\n",
       "      <th>Influenza Deaths</th>\n",
       "      <th>Pneumonia, Influenza, or COVID-19 Deaths</th>\n",
       "      <th>Density</th>\n",
       "      <th>Pop</th>\n",
       "      <th>LandArea</th>\n",
       "      <th>Total \"Two Dose Regmine\" Moderna</th>\n",
       "      <th>Total \"Two Dose Regmine\" Pfizer</th>\n",
       "    </tr>\n",
       "  </thead>\n",
       "  <tbody>\n",
       "    <tr>\n",
       "      <th>0</th>\n",
       "      <td>Alabama</td>\n",
       "      <td>6,195</td>\n",
       "      <td>62,730</td>\n",
       "      <td>5,069</td>\n",
       "      <td>2,009</td>\n",
       "      <td>135</td>\n",
       "      <td>9,381</td>\n",
       "      <td>97.4270</td>\n",
       "      <td>4934190</td>\n",
       "      <td>50645</td>\n",
       "      <td>273,100</td>\n",
       "      <td>227,175</td>\n",
       "    </tr>\n",
       "    <tr>\n",
       "      <th>1</th>\n",
       "      <td>Alaska</td>\n",
       "      <td>193</td>\n",
       "      <td>4,721</td>\n",
       "      <td>270</td>\n",
       "      <td>109</td>\n",
       "      <td>0</td>\n",
       "      <td>363</td>\n",
       "      <td>1.2694</td>\n",
       "      <td>724357</td>\n",
       "      <td>570641</td>\n",
       "      <td>84,700</td>\n",
       "      <td>62,400</td>\n",
       "    </tr>\n",
       "    <tr>\n",
       "      <th>2</th>\n",
       "      <td>Arizona</td>\n",
       "      <td>8,498</td>\n",
       "      <td>77,079</td>\n",
       "      <td>8,720</td>\n",
       "      <td>4,955</td>\n",
       "      <td>147</td>\n",
       "      <td>12,409</td>\n",
       "      <td>66.2016</td>\n",
       "      <td>7520100</td>\n",
       "      <td>113594</td>\n",
       "      <td>387,100</td>\n",
       "      <td>323,700</td>\n",
       "    </tr>\n",
       "    <tr>\n",
       "      <th>3</th>\n",
       "      <td>Arkansas</td>\n",
       "      <td>3,728</td>\n",
       "      <td>37,869</td>\n",
       "      <td>3,769</td>\n",
       "      <td>1,662</td>\n",
       "      <td>101</td>\n",
       "      <td>5,931</td>\n",
       "      <td>58.3059</td>\n",
       "      <td>3033950</td>\n",
       "      <td>52035</td>\n",
       "      <td>165,800</td>\n",
       "      <td>141,375</td>\n",
       "    </tr>\n",
       "    <tr>\n",
       "      <th>4</th>\n",
       "      <td>California</td>\n",
       "      <td>27,622</td>\n",
       "      <td>315,502</td>\n",
       "      <td>33,784</td>\n",
       "      <td>15,695</td>\n",
       "      <td>813</td>\n",
       "      <td>46,518</td>\n",
       "      <td>254.2929</td>\n",
       "      <td>39613500</td>\n",
       "      <td>155779</td>\n",
       "      <td>2,178,600</td>\n",
       "      <td>1,806,675</td>\n",
       "    </tr>\n",
       "  </tbody>\n",
       "</table>\n",
       "</div>"
      ],
      "text/plain": [
       "        State COVID-19 Deaths Total Deaths Pneumonia Deaths  \\\n",
       "0     Alabama           6,195       62,730            5,069   \n",
       "1      Alaska             193        4,721              270   \n",
       "2     Arizona           8,498       77,079            8,720   \n",
       "3    Arkansas           3,728       37,869            3,769   \n",
       "4  California          27,622      315,502           33,784   \n",
       "\n",
       "  Pneumonia and COVID-19 Deaths  Influenza Deaths  \\\n",
       "0                         2,009               135   \n",
       "1                           109                 0   \n",
       "2                         4,955               147   \n",
       "3                         1,662               101   \n",
       "4                        15,695               813   \n",
       "\n",
       "  Pneumonia, Influenza, or COVID-19 Deaths   Density       Pop  LandArea  \\\n",
       "0                                    9,381   97.4270   4934190     50645   \n",
       "1                                      363    1.2694    724357    570641   \n",
       "2                                   12,409   66.2016   7520100    113594   \n",
       "3                                    5,931   58.3059   3033950     52035   \n",
       "4                                   46,518  254.2929  39613500    155779   \n",
       "\n",
       "  Total \"Two Dose Regmine\" Moderna Total \"Two Dose Regmine\" Pfizer  \n",
       "0                          273,100                         227,175  \n",
       "1                           84,700                          62,400  \n",
       "2                          387,100                         323,700  \n",
       "3                          165,800                         141,375  \n",
       "4                        2,178,600                       1,806,675  "
      ]
     },
     "execution_count": 10,
     "metadata": {},
     "output_type": "execute_result"
    }
   ],
   "source": [
    "#Open All csv combined file to start manipulating for review\n",
    "# open next CSV file for merge with cleaned file\n",
    "All_CSV_Combined_csv = 'Cleaned_Data/All_CSV_Combined.csv'\n",
    "# read csv\n",
    "quartile_df = pd.read_csv(All_CSV_Combined_csv)\n",
    "#view data\n",
    "quartile_df.head()"
   ]
  },
  {
   "cell_type": "code",
   "execution_count": 7,
   "metadata": {},
   "outputs": [
    {
     "name": "stdout",
     "output_type": "stream",
     "text": [
      "State                                        object\n",
      "COVID-19 Deaths                              object\n",
      "Total Deaths                                 object\n",
      "Pneumonia Deaths                             object\n",
      "Pneumonia and COVID-19 Deaths                object\n",
      "Influenza Deaths                              int64\n",
      "Pneumonia, Influenza, or COVID-19 Deaths     object\n",
      "Density                                     float64\n",
      "Pop                                           int64\n",
      "LandArea                                      int64\n",
      "Total \"Two Dose Regmine\" Moderna             object\n",
      "Total \"Two Dose Regmine\" Pfizer              object\n",
      "dtype: object\n"
     ]
    }
   ],
   "source": [
    "types = quartile_df.dtypes\n",
    "print(types)"
   ]
  },
  {
   "cell_type": "code",
   "execution_count": 17,
   "metadata": {},
   "outputs": [
    {
     "ename": "TypeError",
     "evalue": "'quantile' cannot be performed against 'object' dtypes!",
     "output_type": "error",
     "traceback": [
      "\u001b[1;31m---------------------------------------------------------------------------\u001b[0m",
      "\u001b[1;31mTypeError\u001b[0m                                 Traceback (most recent call last)",
      "\u001b[1;32m<ipython-input-17-8c65c2edac6a>\u001b[0m in \u001b[0;36m<module>\u001b[1;34m\u001b[0m\n\u001b[1;32m----> 1\u001b[1;33m \u001b[0mpopulation_quartile_df\u001b[0m \u001b[1;33m=\u001b[0m \u001b[0mquartile_df\u001b[0m\u001b[1;33m.\u001b[0m\u001b[0mgroupby\u001b[0m\u001b[1;33m(\u001b[0m\u001b[1;34m'Pop'\u001b[0m\u001b[1;33m)\u001b[0m\u001b[1;33m.\u001b[0m\u001b[0mquantile\u001b[0m\u001b[1;33m(\u001b[0m\u001b[1;33m[\u001b[0m\u001b[1;36m.25\u001b[0m\u001b[1;33m,\u001b[0m\u001b[1;36m.5\u001b[0m\u001b[1;33m,\u001b[0m\u001b[1;36m.75\u001b[0m\u001b[1;33m]\u001b[0m\u001b[1;33m)\u001b[0m\u001b[1;33m\u001b[0m\u001b[1;33m\u001b[0m\u001b[0m\n\u001b[0m\u001b[0;32m      2\u001b[0m \u001b[0mpopulation_quartile_df\u001b[0m\u001b[1;33m.\u001b[0m\u001b[0mhead\u001b[0m\u001b[1;33m(\u001b[0m\u001b[1;33m)\u001b[0m\u001b[1;33m\u001b[0m\u001b[1;33m\u001b[0m\u001b[0m\n",
      "\u001b[1;32m~\\anaconda\\anaconda3\\envs\\PythonData\\lib\\site-packages\\pandas\\core\\groupby\\groupby.py\u001b[0m in \u001b[0;36mquantile\u001b[1;34m(self, q, interpolation)\u001b[0m\n\u001b[0;32m   1927\u001b[0m                     \u001b[0minterpolation\u001b[0m\u001b[1;33m=\u001b[0m\u001b[0minterpolation\u001b[0m\u001b[1;33m,\u001b[0m\u001b[1;33m\u001b[0m\u001b[1;33m\u001b[0m\u001b[0m\n\u001b[0;32m   1928\u001b[0m                 )\n\u001b[1;32m-> 1929\u001b[1;33m                 \u001b[1;32mfor\u001b[0m \u001b[0mqi\u001b[0m \u001b[1;32min\u001b[0m \u001b[0mq\u001b[0m\u001b[1;33m\u001b[0m\u001b[1;33m\u001b[0m\u001b[0m\n\u001b[0m\u001b[0;32m   1930\u001b[0m             ]\n\u001b[0;32m   1931\u001b[0m             \u001b[0mresult\u001b[0m \u001b[1;33m=\u001b[0m \u001b[0mconcat\u001b[0m\u001b[1;33m(\u001b[0m\u001b[0mresults\u001b[0m\u001b[1;33m,\u001b[0m \u001b[0maxis\u001b[0m\u001b[1;33m=\u001b[0m\u001b[1;36m0\u001b[0m\u001b[1;33m,\u001b[0m \u001b[0mkeys\u001b[0m\u001b[1;33m=\u001b[0m\u001b[0mq\u001b[0m\u001b[1;33m)\u001b[0m\u001b[1;33m\u001b[0m\u001b[1;33m\u001b[0m\u001b[0m\n",
      "\u001b[1;32m~\\anaconda\\anaconda3\\envs\\PythonData\\lib\\site-packages\\pandas\\core\\groupby\\groupby.py\u001b[0m in \u001b[0;36m<listcomp>\u001b[1;34m(.0)\u001b[0m\n\u001b[0;32m   1927\u001b[0m                     \u001b[0minterpolation\u001b[0m\u001b[1;33m=\u001b[0m\u001b[0minterpolation\u001b[0m\u001b[1;33m,\u001b[0m\u001b[1;33m\u001b[0m\u001b[1;33m\u001b[0m\u001b[0m\n\u001b[0;32m   1928\u001b[0m                 )\n\u001b[1;32m-> 1929\u001b[1;33m                 \u001b[1;32mfor\u001b[0m \u001b[0mqi\u001b[0m \u001b[1;32min\u001b[0m \u001b[0mq\u001b[0m\u001b[1;33m\u001b[0m\u001b[1;33m\u001b[0m\u001b[0m\n\u001b[0m\u001b[0;32m   1930\u001b[0m             ]\n\u001b[0;32m   1931\u001b[0m             \u001b[0mresult\u001b[0m \u001b[1;33m=\u001b[0m \u001b[0mconcat\u001b[0m\u001b[1;33m(\u001b[0m\u001b[0mresults\u001b[0m\u001b[1;33m,\u001b[0m \u001b[0maxis\u001b[0m\u001b[1;33m=\u001b[0m\u001b[1;36m0\u001b[0m\u001b[1;33m,\u001b[0m \u001b[0mkeys\u001b[0m\u001b[1;33m=\u001b[0m\u001b[0mq\u001b[0m\u001b[1;33m)\u001b[0m\u001b[1;33m\u001b[0m\u001b[1;33m\u001b[0m\u001b[0m\n",
      "\u001b[1;32m~\\anaconda\\anaconda3\\envs\\PythonData\\lib\\site-packages\\pandas\\core\\groupby\\groupby.py\u001b[0m in \u001b[0;36m_get_cythonized_result\u001b[1;34m(self, how, cython_dtype, aggregate, needs_values, needs_mask, needs_ngroups, result_is_index, pre_processing, post_processing, **kwargs)\u001b[0m\n\u001b[0;32m   2280\u001b[0m                 \u001b[0mvals\u001b[0m \u001b[1;33m=\u001b[0m \u001b[0mvalues\u001b[0m\u001b[1;33m\u001b[0m\u001b[1;33m\u001b[0m\u001b[0m\n\u001b[0;32m   2281\u001b[0m                 \u001b[1;32mif\u001b[0m \u001b[0mpre_processing\u001b[0m\u001b[1;33m:\u001b[0m\u001b[1;33m\u001b[0m\u001b[1;33m\u001b[0m\u001b[0m\n\u001b[1;32m-> 2282\u001b[1;33m                     \u001b[0mvals\u001b[0m\u001b[1;33m,\u001b[0m \u001b[0minferences\u001b[0m \u001b[1;33m=\u001b[0m \u001b[0mpre_processing\u001b[0m\u001b[1;33m(\u001b[0m\u001b[0mvals\u001b[0m\u001b[1;33m)\u001b[0m\u001b[1;33m\u001b[0m\u001b[1;33m\u001b[0m\u001b[0m\n\u001b[0m\u001b[0;32m   2283\u001b[0m                 \u001b[0mfunc\u001b[0m \u001b[1;33m=\u001b[0m \u001b[0mpartial\u001b[0m\u001b[1;33m(\u001b[0m\u001b[0mfunc\u001b[0m\u001b[1;33m,\u001b[0m \u001b[0mvals\u001b[0m\u001b[1;33m)\u001b[0m\u001b[1;33m\u001b[0m\u001b[1;33m\u001b[0m\u001b[0m\n\u001b[0;32m   2284\u001b[0m \u001b[1;33m\u001b[0m\u001b[0m\n",
      "\u001b[1;32m~\\anaconda\\anaconda3\\envs\\PythonData\\lib\\site-packages\\pandas\\core\\groupby\\groupby.py\u001b[0m in \u001b[0;36mpre_processor\u001b[1;34m(vals)\u001b[0m\n\u001b[0;32m   1879\u001b[0m             \u001b[1;32mif\u001b[0m \u001b[0mis_object_dtype\u001b[0m\u001b[1;33m(\u001b[0m\u001b[0mvals\u001b[0m\u001b[1;33m)\u001b[0m\u001b[1;33m:\u001b[0m\u001b[1;33m\u001b[0m\u001b[1;33m\u001b[0m\u001b[0m\n\u001b[0;32m   1880\u001b[0m                 raise TypeError(\n\u001b[1;32m-> 1881\u001b[1;33m                     \u001b[1;34m\"'quantile' cannot be performed against 'object' dtypes!\"\u001b[0m\u001b[1;33m\u001b[0m\u001b[1;33m\u001b[0m\u001b[0m\n\u001b[0m\u001b[0;32m   1882\u001b[0m                 )\n\u001b[0;32m   1883\u001b[0m \u001b[1;33m\u001b[0m\u001b[0m\n",
      "\u001b[1;31mTypeError\u001b[0m: 'quantile' cannot be performed against 'object' dtypes!"
     ]
    }
   ],
   "source": [
    "population_quartile_df = quartile_df.groupby('Pop').quantile([.25,.5,.75])\n",
    "population_quartile_df.head()"
   ]
  },
  {
   "cell_type": "code",
   "execution_count": null,
   "metadata": {},
   "outputs": [],
   "source": []
  }
 ],
 "metadata": {
  "kernelspec": {
   "display_name": "Python [conda env:PythonData] *",
   "language": "python",
   "name": "conda-env-PythonData-py"
  },
  "language_info": {
   "codemirror_mode": {
    "name": "ipython",
    "version": 3
   },
   "file_extension": ".py",
   "mimetype": "text/x-python",
   "name": "python",
   "nbconvert_exporter": "python",
   "pygments_lexer": "ipython3",
   "version": "3.6.10"
  }
 },
 "nbformat": 4,
 "nbformat_minor": 4
}
